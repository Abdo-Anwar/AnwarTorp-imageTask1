{
 "cells": [
  {
   "cell_type": "code",
   "execution_count": 13,
   "metadata": {},
   "outputs": [
    {
     "name": "stdout",
     "output_type": "stream",
     "text": [
      "Clicked at (x: 307, y: 437)\n",
      "BGR: (144, 151, 154)\n",
      "Lower HSV Bound: [ 11 100 100]\n",
      "Upper HSV Bound: [ 51 255 255]\n",
      "Clicked at (x: 373, y: 513)\n",
      "BGR: (4, 0, 5)\n",
      "Lower HSV Bound: [146 100 100]\n",
      "Upper HSV Bound: [186 255 255]\n",
      "Clicked at (x: 368, y: 540)\n",
      "BGR: (226, 243, 246)\n",
      "Lower HSV Bound: [ 16 100 100]\n",
      "Upper HSV Bound: [ 56 255 255]\n",
      "Clicked at (x: 352, y: 500)\n",
      "BGR: (2, 1, 3)\n",
      "Lower HSV Bound: [155 100 100]\n",
      "Upper HSV Bound: [195 255 255]\n",
      "Clicked at (x: 357, y: 480)\n",
      "BGR: (1, 0, 2)\n",
      "Lower HSV Bound: [155 100 100]\n",
      "Upper HSV Bound: [195 255 255]\n"
     ]
    },
    {
     "name": "stderr",
     "output_type": "stream",
     "text": [
      "C:\\Users\\abdah\\AppData\\Local\\Temp\\ipykernel_44712\\3765117820.py:15: RuntimeWarning: overflow encountered in scalar subtract\n",
      "  lowerLimit = hsvC[0][0][0] - 10, 100, 100\n"
     ]
    },
    {
     "name": "stdout",
     "output_type": "stream",
     "text": [
      "Clicked at (x: 386, y: 538)\n",
      "BGR: (0, 0, 8)\n",
      "Lower HSV Bound: [246 100 100]\n",
      "Upper HSV Bound: [ 30 255 255]\n",
      "Clicked at (x: 386, y: 582)\n",
      "BGR: (162, 174, 178)\n",
      "Lower HSV Bound: [ 13 100 100]\n",
      "Upper HSV Bound: [ 53 255 255]\n",
      "Clicked at (x: 383, y: 647)\n",
      "BGR: (13, 45, 252)\n",
      "Lower HSV Bound: [250 100 100]\n",
      "Upper HSV Bound: [ 34 255 255]\n",
      "Clicked at (x: 383, y: 715)\n",
      "BGR: (0, 0, 61)\n",
      "Lower HSV Bound: [246 100 100]\n",
      "Upper HSV Bound: [ 30 255 255]\n",
      "Clicked at (x: 377, y: 755)\n",
      "BGR: (0, 3, 4)\n",
      "Lower HSV Bound: [ 13 100 100]\n",
      "Upper HSV Bound: [ 53 255 255]\n",
      "Clicked at (x: 379, y: 825)\n",
      "BGR: (2, 2, 2)\n",
      "Lower HSV Bound: [246 100 100]\n",
      "Upper HSV Bound: [ 30 255 255]\n",
      "Clicked at (x: 386, y: 819)\n",
      "BGR: (2, 2, 2)\n",
      "Lower HSV Bound: [246 100 100]\n",
      "Upper HSV Bound: [ 30 255 255]\n"
     ]
    }
   ],
   "source": [
    "import matplotlib.pyplot as plt\n",
    "import numpy as np\n",
    "import cv2\n",
    "n = 0\n",
    "point1 = None\n",
    "\n",
    "image_path= \"bunny.jpeg\"\n",
    "image=cv2.imread(image_path)\n",
    "\n",
    "def get_limits(color):\n",
    "\n",
    "    c= np.uint8([[color]])\n",
    "    hsvC= cv2.cvtColor(c,cv2.COLOR_BGR2HSV)\n",
    "\n",
    "    lowerLimit = hsvC[0][0][0] - 10, 100, 100\n",
    "    upperLimit = hsvC[0][0][0] + 30, 255, 255\n",
    "\n",
    "    lowerLimit = np.array(lowerLimit,dtype=np.uint8)\n",
    "    upperLimit = np.array(upperLimit,dtype=np.uint8)\n",
    "\n",
    "    return lowerLimit, upperLimit\n",
    "\n",
    "def getPoints(event, x, y, flags, param):\n",
    "    global n\n",
    "    n = n + 1\n",
    "    global point1\n",
    "    if event == cv2.EVENT_LBUTTONDOWN:\n",
    "\n",
    "        bgr_color = image[y, x]\n",
    "        b, g, r = int(bgr_color[0]), int(bgr_color[1]), int(bgr_color[2])\n",
    "\n",
    "        lower_limit, upper_limit = get_limits(bgr_color)\n",
    "\n",
    "        print(f\"Clicked at (x: {x}, y: {y})\")\n",
    "        print(f\"BGR: ({b}, {g}, {r})\")\n",
    "        print(f\"Lower HSV Bound: {lower_limit}\")\n",
    "        print(f\"Upper HSV Bound: {upper_limit}\")\n",
    "        \n",
    "        color_square = np.zeros((100, 100, 3), np.uint8)\n",
    "        color_square[:] = [b, g, r]\n",
    "        cv2.imshow(\"Clicked Color\", color_square)\n",
    "\n",
    "cv2.namedWindow('Image')\n",
    "cv2.setMouseCallback('Image', getPoints)\n",
    "\n",
    "\n",
    "while True:\n",
    "    cv2.imshow('Image',image)\n",
    "    \n",
    "\n",
    "\n",
    "    \n",
    "    key = cv2.waitKey(1)\n",
    "    if key == 27:\n",
    "        break\n",
    "cv2.destroyAllWindows()\n"
   ]
  }
 ],
 "metadata": {
  "kernelspec": {
   "display_name": "Python 3",
   "language": "python",
   "name": "python3"
  },
  "language_info": {
   "codemirror_mode": {
    "name": "ipython",
    "version": 3
   },
   "file_extension": ".py",
   "mimetype": "text/x-python",
   "name": "python",
   "nbconvert_exporter": "python",
   "pygments_lexer": "ipython3",
   "version": "3.11.9"
  }
 },
 "nbformat": 4,
 "nbformat_minor": 2
}

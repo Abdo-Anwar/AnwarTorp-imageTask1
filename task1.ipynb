{
 "cells": [
  {
   "cell_type": "code",
   "execution_count": 6,
   "metadata": {},
   "outputs": [
    {
     "name": "stdout",
     "output_type": "stream",
     "text": [
      "point 1: (169, 339)\n",
      "point 2: (433, 553)\n"
     ]
    }
   ],
   "source": [
    "import matplotlib.pyplot as plt\n",
    "import numpy as np\n",
    "import cv2\n",
    "n = 0\n",
    "point1 = None\n",
    "point2 = None\n",
    "image_path= \"bunny.jpeg\"\n",
    "image=cv2.imread(image_path)\n",
    "\n",
    "def getPoints(event, x, y, flags, param):\n",
    "    global n\n",
    "    n = n + 1\n",
    "    global point1, point2\n",
    "    if event ==cv2.EVENT_LBUTTONDOWN:\n",
    "        if point1 is None:\n",
    "            point1 = (x, y)\n",
    "            print(f\"point 1: {point1}\")\n",
    "        elif point2 is None:\n",
    "            point2 = (x, y)\n",
    "            print(f\"point 2: {point2}\")\n",
    "\n",
    "\n",
    "       \n",
    "\n",
    "cv2.namedWindow('Image')\n",
    "cv2.setMouseCallback('Image', getPoints)\n",
    "\n",
    "\n",
    "while True:\n",
    "    cv2.imshow('Image',image)\n",
    "    \n",
    "    key = cv2.waitKey(1)\n",
    "    if key == 27:\n",
    "        break\n",
    "cv2.destroyAllWindows()\n",
    "\n",
    "\n",
    "\n",
    "\n",
    "\n",
    "\n",
    "\n"
   ]
  }
 ],
 "metadata": {
  "kernelspec": {
   "display_name": "Python 3",
   "language": "python",
   "name": "python3"
  },
  "language_info": {
   "codemirror_mode": {
    "name": "ipython",
    "version": 3
   },
   "file_extension": ".py",
   "mimetype": "text/x-python",
   "name": "python",
   "nbconvert_exporter": "python",
   "pygments_lexer": "ipython3",
   "version": "3.11.9"
  }
 },
 "nbformat": 4,
 "nbformat_minor": 2
}
